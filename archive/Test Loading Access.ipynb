{
 "cells": [
  {
   "cell_type": "code",
   "execution_count": 1,
   "metadata": {},
   "outputs": [
    {
     "data": {
      "text/plain": [
       "['Microsoft Access Driver (*.mdb, *.accdb)']"
      ]
     },
     "execution_count": 1,
     "metadata": {},
     "output_type": "execute_result"
    }
   ],
   "source": [
    "import pyodbc\n",
    "[x for x in pyodbc.drivers() if x.startswith('Microsoft Access Driver')]"
   ]
  },
  {
   "cell_type": "code",
   "execution_count": 2,
   "metadata": {},
   "outputs": [
    {
     "name": "stdout",
     "output_type": "stream",
     "text": [
      "Charters\n",
      "Function\n",
      "Fund\n",
      "Goal\n",
      "LEAs\n",
      "Object\n",
      "Resource\n",
      "UserGL\n",
      "UserGL_Totals\n"
     ]
    }
   ],
   "source": [
    "conn_str = (\n",
    "    r'DRIVER={Microsoft Access Driver (*.mdb, *.accdb)};'\n",
    "    r'DBQ=C:\\Users\\Cristino\\Documents\\GitHub\\springboard\\data\\sacs0910.mdb;'\n",
    "    )\n",
    "cnxn = pyodbc.connect(conn_str)\n",
    "crsr = cnxn.cursor()\n",
    "for table_info in crsr.tables(tableType='TABLE'):\n",
    "    print(table_info.table_name)"
   ]
  },
  {
   "cell_type": "code",
   "execution_count": 5,
   "metadata": {},
   "outputs": [],
   "source": [
    "crsr.execute(\"select top 5 * from Charters;\")\n",
    "rows = crsr.fetchall()"
   ]
  },
  {
   "cell_type": "code",
   "execution_count": 6,
   "metadata": {},
   "outputs": [
    {
     "data": {
      "text/plain": [
       "list"
      ]
     },
     "execution_count": 6,
     "metadata": {},
     "output_type": "execute_result"
    }
   ],
   "source": [
    "type(rows)"
   ]
  },
  {
   "cell_type": "code",
   "execution_count": 7,
   "metadata": {},
   "outputs": [
    {
     "name": "stdout",
     "output_type": "stream",
     "text": [
      "5\n"
     ]
    }
   ],
   "source": [
    "print (len(rows))"
   ]
  },
  {
   "cell_type": "code",
   "execution_count": 11,
   "metadata": {},
   "outputs": [],
   "source": [
    "import pandas as pd"
   ]
  },
  {
   "cell_type": "code",
   "execution_count": 15,
   "metadata": {},
   "outputs": [
    {
     "data": {
      "text/plain": [
       "['A', 'B', 'C', 'D', 'E', 'F', 'G', 'H', 'I', 'J']"
      ]
     },
     "execution_count": 15,
     "metadata": {},
     "output_type": "execute_result"
    }
   ],
   "source": [
    "labels =list('ABCDEFGHIJ')\n",
    "labels"
   ]
  },
  {
   "cell_type": "code",
   "execution_count": 16,
   "metadata": {},
   "outputs": [
    {
     "data": {
      "text/html": [
       "<div>\n",
       "<style>\n",
       "    .dataframe thead tr:only-child th {\n",
       "        text-align: right;\n",
       "    }\n",
       "\n",
       "    .dataframe thead th {\n",
       "        text-align: left;\n",
       "    }\n",
       "\n",
       "    .dataframe tbody tr th {\n",
       "        vertical-align: top;\n",
       "    }\n",
       "</style>\n",
       "<table border=\"1\" class=\"dataframe\">\n",
       "  <thead>\n",
       "    <tr style=\"text-align: right;\">\n",
       "      <th></th>\n",
       "      <th>A</th>\n",
       "      <th>B</th>\n",
       "      <th>C</th>\n",
       "      <th>D</th>\n",
       "      <th>E</th>\n",
       "      <th>F</th>\n",
       "      <th>G</th>\n",
       "      <th>H</th>\n",
       "      <th>I</th>\n",
       "      <th>J</th>\n",
       "    </tr>\n",
       "  </thead>\n",
       "  <tbody>\n",
       "    <tr>\n",
       "      <th>0</th>\n",
       "      <td>01</td>\n",
       "      <td>10017</td>\n",
       "      <td>0109835</td>\n",
       "      <td>0728</td>\n",
       "      <td>FAME Public Charter                           ...</td>\n",
       "      <td>ALT Form                                      ...</td>\n",
       "      <td>School</td>\n",
       "      <td></td>\n",
       "      <td>1405.07</td>\n",
       "      <td>1.8</td>\n",
       "    </tr>\n",
       "    <tr>\n",
       "      <th>1</th>\n",
       "      <td>01</td>\n",
       "      <td>10017</td>\n",
       "      <td>0112607</td>\n",
       "      <td>0811</td>\n",
       "      <td>Envision Academy for Arts &amp; Technology        ...</td>\n",
       "      <td>ALT Form                                      ...</td>\n",
       "      <td>School</td>\n",
       "      <td></td>\n",
       "      <td>227.96</td>\n",
       "      <td>0.0</td>\n",
       "    </tr>\n",
       "    <tr>\n",
       "      <th>2</th>\n",
       "      <td>01</td>\n",
       "      <td>10017</td>\n",
       "      <td>0118489</td>\n",
       "      <td>1049</td>\n",
       "      <td>Aspire California College Preparatory Academy ...</td>\n",
       "      <td>ALT Form                                      ...</td>\n",
       "      <td>School</td>\n",
       "      <td></td>\n",
       "      <td>184.56</td>\n",
       "      <td>0.0</td>\n",
       "    </tr>\n",
       "    <tr>\n",
       "      <th>3</th>\n",
       "      <td>01</td>\n",
       "      <td>61119</td>\n",
       "      <td>0119222</td>\n",
       "      <td>1066</td>\n",
       "      <td>Nea Community Learning Center                 ...</td>\n",
       "      <td>ALT Form                                      ...</td>\n",
       "      <td>School</td>\n",
       "      <td></td>\n",
       "      <td>279.16</td>\n",
       "      <td>0.0</td>\n",
       "    </tr>\n",
       "    <tr>\n",
       "      <th>4</th>\n",
       "      <td>01</td>\n",
       "      <td>61119</td>\n",
       "      <td>0130609</td>\n",
       "      <td>0352</td>\n",
       "      <td>Alameda Community Learning Center             ...</td>\n",
       "      <td>SACS                                          ...</td>\n",
       "      <td>District</td>\n",
       "      <td>09 Charter Spec. Revenue</td>\n",
       "      <td>97.72</td>\n",
       "      <td>0.0</td>\n",
       "    </tr>\n",
       "  </tbody>\n",
       "</table>\n",
       "</div>"
      ],
      "text/plain": [
       "    A      B        C           D  \\\n",
       "0  01  10017  0109835  0728         \n",
       "1  01  10017  0112607  0811         \n",
       "2  01  10017  0118489  1049         \n",
       "3  01  61119  0119222  1066         \n",
       "4  01  61119  0130609  0352         \n",
       "\n",
       "                                                   E  \\\n",
       "0  FAME Public Charter                           ...   \n",
       "1  Envision Academy for Arts & Technology        ...   \n",
       "2  Aspire California College Preparatory Academy ...   \n",
       "3  Nea Community Learning Center                 ...   \n",
       "4  Alameda Community Learning Center             ...   \n",
       "\n",
       "                                                   F         G  \\\n",
       "0  ALT Form                                      ...    School   \n",
       "1  ALT Form                                      ...    School   \n",
       "2  ALT Form                                      ...    School   \n",
       "3  ALT Form                                      ...    School   \n",
       "4  SACS                                          ...  District   \n",
       "\n",
       "                          H        I    J  \n",
       "0                            1405.07  1.8  \n",
       "1                             227.96  0.0  \n",
       "2                             184.56  0.0  \n",
       "3                             279.16  0.0  \n",
       "4  09 Charter Spec. Revenue    97.72  0.0  "
      ]
     },
     "execution_count": 16,
     "metadata": {},
     "output_type": "execute_result"
    }
   ],
   "source": [
    "pd.DataFrame.from_records(rows,columns = labels)"
   ]
  },
  {
   "cell_type": "code",
   "execution_count": null,
   "metadata": {
    "collapsed": true
   },
   "outputs": [],
   "source": [
    "crsr.execute(\"select * from Charter C LEFT JOIN LEAs L on  C.id=L.id LIMIT 10;\")"
   ]
  }
 ],
 "metadata": {
  "kernelspec": {
   "display_name": "Python 3",
   "language": "python",
   "name": "python3"
  },
  "language_info": {
   "codemirror_mode": {
    "name": "ipython",
    "version": 3
   },
   "file_extension": ".py",
   "mimetype": "text/x-python",
   "name": "python",
   "nbconvert_exporter": "python",
   "pygments_lexer": "ipython3",
   "version": "3.6.3"
  }
 },
 "nbformat": 4,
 "nbformat_minor": 2
}
